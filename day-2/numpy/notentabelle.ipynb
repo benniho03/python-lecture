{
 "cells": [
  {
   "cell_type": "code",
   "execution_count": 2,
   "id": "initial_id",
   "metadata": {
    "is_executing": true
   },
   "outputs": [],
   "source": [
    "import numpy as np\n",
    "gradesMixed =  np.array([\n",
    "    [\"\", \"T1\", \"T2\", \"M1\", \"M2\", \"D1\"], \n",
    "    [\"Müller\", 1.0, 1.2, 1.5, 1.3, 2.0],\n",
    "    [\"Meier\", 2.3, 2.0, 2.3, 1.7, 1.2],\n",
    "    [\"Schulze\", 1.9, 1.3, 4.0, 2.7, 1.8 ],\n",
    "    [\"Domann\", 3.4, 3.1, 3.0, 3.7, 4.0]\n",
    "])"
   ]
  },
  {
   "cell_type": "code",
   "execution_count": 58,
   "id": "86202353",
   "metadata": {},
   "outputs": [],
   "source": [
    "grades = np.array([\n",
    "    [1.0, 1.2, 1.5, 1.3, 2.0],\n",
    "    [2.3, 2.0, 2.3, 1.7, 1.2],\n",
    "    [1.9, 1.3, 4.0, 2.7, 1.8],\n",
    "    [3.4, 3.1, 3.0, 3.7, 4.0],\n",
    "])"
   ]
  },
  {
   "cell_type": "code",
   "execution_count": 38,
   "id": "8eef1c2d",
   "metadata": {},
   "outputs": [
    {
     "name": "stdout",
     "output_type": "stream",
     "text": [
      "Durchschnittliche Note je Fach:  [2.15 1.9  2.7  2.35 2.25]\n",
      "Standardabweichung je Fach:  [0.8616844  0.75828755 0.9192388  0.9313968  1.0523783 ]\n",
      "Beste Note je Fach:  [1.  1.2 1.5 1.3 1.2]\n",
      "Schlechteste Note je Fach:  [3.4 3.1 4.  3.7 4. ]\n"
     ]
    }
   ],
   "source": [
    "averagesM = np.mean(grades, axis=0, dtype=np.float32)\n",
    "print(\"Durchschnittliche Note je Fach: \",averagesM)\n",
    "stdsM = np.std(grades, axis=0, dtype=np.float32)\n",
    "print(\"Standardabweichung je Fach: \", stdsM)\n",
    "minM = np.min(grades, axis=0)\n",
    "print(\"Beste Note je Fach: \", minM)\n",
    "maxM = np.max(grades, axis=0)\n",
    "print(\"Schlechteste Note je Fach: \", maxM)"
   ]
  },
  {
   "cell_type": "code",
   "execution_count": 85,
   "id": "6c22326e",
   "metadata": {},
   "outputs": [
    {
     "name": "stdout",
     "output_type": "stream",
     "text": [
      "Durchschnittliche Note je Student:  [1.4  1.9  2.34 3.44]\n",
      "Standardabweichung je Student:  [0.34058774 0.41472882 0.9436101  0.3720215 ]\n",
      "Beste Note je Student:  [1.  1.2 1.3 3. ]\n",
      "Schlechteste Note je Student:  [2.  2.3 4.  4. ]\n"
     ]
    }
   ],
   "source": [
    "averagesS = np.mean(grades, axis=1, dtype=np.float32)\n",
    "print(\"Durchschnittliche Note je Student: \",averages)\n",
    "stdsS = np.std(grades, axis=1, dtype=np.float32)\n",
    "print(\"Standardabweichung je Student: \", stds)\n",
    "minS = np.min(grades, axis=1)\n",
    "print(\"Beste Note je Student: \", min)\n",
    "maxS = np.max(grades, axis=1)\n",
    "print(\"Schlechteste Note je Student: \", max)"
   ]
  },
  {
   "cell_type": "code",
   "execution_count": 6,
   "id": "6054c252",
   "metadata": {
    "scrolled": true
   },
   "outputs": [
    {
     "ename": "NameError",
     "evalue": "name 'averagesM' is not defined",
     "output_type": "error",
     "traceback": [
      "\u001b[1;31m---------------------------------------------------------------------------\u001b[0m",
      "\u001b[1;31mNameError\u001b[0m                                 Traceback (most recent call last)",
      "Cell \u001b[1;32mIn[6], line 1\u001b[0m\n\u001b[1;32m----> 1\u001b[0m grades \u001b[38;5;241m=\u001b[39m np\u001b[38;5;241m.\u001b[39mrow_stack((grades, averagesM))\n\u001b[0;32m      2\u001b[0m grades \u001b[38;5;241m=\u001b[39m np\u001b[38;5;241m.\u001b[39mrow_stack((grades, stdsM))\n\u001b[0;32m      3\u001b[0m grades \u001b[38;5;241m=\u001b[39m np\u001b[38;5;241m.\u001b[39mrow_stack((grades, minM))\n",
      "\u001b[1;31mNameError\u001b[0m: name 'averagesM' is not defined"
     ]
    }
   ],
   "source": [
    "grades = np.row_stack((grades, averagesM))\n",
    "grades = np.row_stack((grades, stdsM))\n",
    "grades = np.row_stack((grades, minM))\n",
    "grades = np.row_stack((grades, maxM))\n",
    "\n",
    "grades = np.column_stack((grades, averagesS))\n",
    "grades = np.column_stack((grades, stdsS))\n",
    "grades = np.column_stack((grades, minS))\n",
    "grades = np.column_stack((grades, maxS))\n",
    "\n",
    "print(grades)"
   ]
  },
  {
   "cell_type": "markdown",
   "id": "b4edfc4a",
   "metadata": {},
   "source": [
    "Wie schaffe ich es, dass ich die fehlenden Felder hinzufügen?"
   ]
  },
  {
   "cell_type": "code",
   "execution_count": 43,
   "id": "7d39bfe6",
   "metadata": {},
   "outputs": [
    {
     "name": "stdout",
     "output_type": "stream",
     "text": [
      "Müller's Noten:\n",
      "T1: 1.0\n",
      "T2: 1.2\n",
      "M1: 1.5\n",
      "M2: 1.3\n",
      "D2: 2.0\n",
      "Meier's Noten:\n",
      "T1: 2.3\n",
      "T2: 2.0\n",
      "M1: 2.3\n",
      "M2: 1.7\n",
      "D2: 1.2\n",
      "Schulze's Noten:\n",
      "T1: 1.9\n",
      "T2: 1.3\n",
      "M1: 4.0\n",
      "M2: 2.7\n",
      "D2: 1.8\n",
      "Domann's Noten:\n",
      "T1: 3.4\n",
      "T2: 3.1\n",
      "M1: 3.0\n",
      "M2: 3.7\n",
      "D2: 4.0\n",
      "None\n"
     ]
    }
   ],
   "source": [
    "students = [\"Müller\", \"Meier\", \"Schulze\", \"Domann\"]\n",
    "modules = [\"T1\", \"T2\", \"M1\", \"M2\", \"D2\"]\n",
    "def gradesOutput(grades):\n",
    "    for studentIndex, student in enumerate(grades):\n",
    "        print(f\"{students[studentIndex]}'s Noten:\")\n",
    "        for modulesIndex, module in enumerate(modules):\n",
    "            print(f\"{module}: {grades[studentIndex][modulesIndex]}\")\n",
    "print (gradesOutput(grades))            "
   ]
  },
  {
   "cell_type": "code",
   "execution_count": 52,
   "id": "5c375627",
   "metadata": {},
   "outputs": [
    {
     "name": "stdout",
     "output_type": "stream",
     "text": [
      "Alte Noten: [1.  2.3 1.9 3.4]\n",
      "Die verbesserten Ergebnisse für das T1-Modul sind:  [0.9, 2.1, 1.7, 3.1]\n"
     ]
    }
   ],
   "source": [
    "print(\"Alte Noten:\", grades[:,0])\n",
    "def improveT1Results(grades): \n",
    "    newT1Results = []\n",
    "    for grade in grades[:,0]:\n",
    "        newT1Results.append(round(grade - (grade * 0.1), 1))\n",
    "    return newT1Results\n",
    "\n",
    "print(\"Die verbesserten Ergebnisse für das T1-Modul sind: \", improveT1Results(grades))"
   ]
  },
  {
   "cell_type": "code",
   "execution_count": 60,
   "id": "3ab7e139",
   "metadata": {},
   "outputs": [
    {
     "name": "stdout",
     "output_type": "stream",
     "text": [
      "Müller's Noten:\n",
      "T1: 0.8\n",
      "T2: 1.2\n",
      "M1: 1.5\n",
      "M2: 1.3\n",
      "D2: 2.0\n",
      "Meier's Noten:\n",
      "T1: 1.9\n",
      "T2: 2.0\n",
      "M1: 2.3\n",
      "M2: 1.7\n",
      "D2: 1.2\n",
      "Schulze's Noten:\n",
      "T1: 1.5\n",
      "T2: 1.3\n",
      "M1: 4.0\n",
      "M2: 2.7\n",
      "D2: 1.8\n",
      "Domann's Noten:\n",
      "T1: 2.8\n",
      "T2: 3.1\n",
      "M1: 3.0\n",
      "M2: 3.7\n",
      "D2: 4.0\n",
      "None\n"
     ]
    }
   ],
   "source": [
    "grades[:,0] = improveT1Results(grades)\n",
    "print(gradesOutput(grades))\n"
   ]
  }
 ],
 "metadata": {
  "kernelspec": {
   "display_name": "Python 3 (ipykernel)",
   "language": "python",
   "name": "python3"
  },
  "language_info": {
   "codemirror_mode": {
    "name": "ipython",
    "version": 3
   },
   "file_extension": ".py",
   "mimetype": "text/x-python",
   "name": "python",
   "nbconvert_exporter": "python",
   "pygments_lexer": "ipython3",
   "version": "3.11.5"
  }
 },
 "nbformat": 4,
 "nbformat_minor": 5
}
