{
 "cells": [
  {
   "cell_type": "code",
   "execution_count": 2,
   "id": "f7f25c8b",
   "metadata": {},
   "outputs": [],
   "source": [
    "import numpy as np"
   ]
  },
  {
   "cell_type": "markdown",
   "id": "462c0910",
   "metadata": {},
   "source": [
    "a) Anstatt konkrete Daten einzulesen (wie würde dies gehen, wenn wir ein numpy-Array als Datei vorliegen haben?), befüllen wir eine 40x24-Matrix z mit Zufallszahlen: zwischen 22 und 6 Uhr mit Zahlen zwischen 0 und 50, in der übrigen Zeit mit Zahlen zwischen 40 und 200."
   ]
  },
  {
   "cell_type": "markdown",
   "id": "09b582a9",
   "metadata": {},
   "source": [
    "Um Daten einzulesen, könnte man f_open() verwenden und dann den Inhalt als NumPy Array parsen."
   ]
  },
  {
   "cell_type": "code",
   "execution_count": 9,
   "id": "57f0a3c4",
   "metadata": {},
   "outputs": [
    {
     "name": "stdout",
     "output_type": "stream",
     "text": [
      "[[ 28  33  22  49   1   9   1  75 147 120 192 152 131  64 175 124 180  77\n",
      "   72 194 135  48  38]\n",
      " [ 36  28  27  26  32   0   4 179 102 105 152  46  56  79  45 141 196  94\n",
      "  197 132 192 156  36]\n",
      " [ 47  23  10   0  47  32  33  57 123  79 176 134 193  73  43 113 121  63\n",
      "  122 124 153 197  32]\n",
      " [ 16  32   9  20  37  22  44  78  53 106 174 147  85 166 125 138  75  75\n",
      "  183 100  59 179  48]\n",
      " [  8  40  47   4   7  46  49  86 140 192  86 136 190  67  69  41  46  96\n",
      "   81 166  87 190  15]\n",
      " [ 35   7  34  10  34  18  23 198 174 155 132 111 197 166 173 163 189  89\n",
      "   79  77 131 139   0]\n",
      " [ 47   3  43  45   7  27  40 182 127 152  43 130 122 113 112 172 128 168\n",
      "   42  65 155  60  27]\n",
      " [ 49  14  18  46  36  38  42 158 154 158  75  72 111  91  47 182  57 139\n",
      "  111 108 113 187   0]\n",
      " [ 35  36  34  19  49  27  22 157 114  89  58 156 185 189 114 105 143 189\n",
      "  134 191 199 156  43]\n",
      " [ 41  14   7  31   7  46  50  83  67 153  46 140 149 143 107  95  82 111\n",
      "  191 197 194 113   3]\n",
      " [ 48  19  40  34  25  44  27  64 173 116  90  94 135 176  72 162  56 102\n",
      "  162  56  54 132  42]\n",
      " [  4   9  21  50  40  19  43  76  50  94 126  65  50  89  99 132  99 182\n",
      "   83 103 143 136  24]\n",
      " [  3   2   0  22  30   7  22  66 161 185 174  58  63  52 151  55 113 180\n",
      "  173 125 127  41  28]\n",
      " [ 27  22  33  21   6  23  30  82 122  44 109 140 143  78 102 111 177  80\n",
      "  118  69 103 114   4]\n",
      " [ 20  36   1  23   0   9   4  44  84 196  41 136 191 100 176  43 160 176\n",
      "  147 152 158 164  44]\n",
      " [ 29  48  44  22  50  28  24 193 176 196 174  81 113  68 131 146  85 171\n",
      "  109  72  85 181   5]\n",
      " [ 25  47  27  31  45  36  50 118 131 186  87  46  62 108  90 136 100 114\n",
      "  176  41 185  81  37]\n",
      " [ 15  10  29  33  43  32  15  76 137 122 180 125  46 128  41 114  76 164\n",
      "   54 144 132 188  47]\n",
      " [ 32  49  22  39  40  32  21  59 109  94 161  40  56 179  41  81 130 192\n",
      "  165 120 119 197  46]\n",
      " [  7  28  23  12  45   5  45  85  77 197  99 109 131  78  42 160 142  63\n",
      "  142 172 148 106  38]\n",
      " [  1  47  31  42  11  47  34 138  93 200 139 184 158 176 185 160 110  61\n",
      "  129 141 186 125  29]\n",
      " [ 37  39   2  13   4  11  36 103 118  95 182 171 151 176  65 103 153  60\n",
      "  132  57  48 139  24]\n",
      " [  9  44  35   8  34   3  48 104 167 150 121 114  89 122 118  94 130 187\n",
      "  130  51  55 188   7]\n",
      " [ 46   2  18   4  25  18  13  69 122 150 164  81  40  90  88 187 172 106\n",
      "  103  52 111  83   4]\n",
      " [  4  47  11  30  28  46  46 155 107 171 115 120 138 130 133  51 181 141\n",
      "   63  84  61  62  42]\n",
      " [ 31   8  19  16   8  27  44  97 146 101 166  50 165  96 113  59 171  72\n",
      "   99  40 142  89   0]\n",
      " [ 32  29  26  13   4  19  28 119 118  68 156 117  74 161  73  92 158 163\n",
      "  149 127  61 192  15]\n",
      " [ 42  17   3  28  17  45  16  52 133 156 154 132 120 171  51 176 181 178\n",
      "  137 178  52  65  25]\n",
      " [ 32   5  14  30  20  48  48 103  62  98 167 120 173  63 129 127 103  77\n",
      "   83 182  97 130   9]\n",
      " [ 48  49  40  38   7  10   7  44 142 142 101 142  99 174  78  68 171  49\n",
      "  170 141  53  78  50]\n",
      " [ 31  40  44  32  24  33  25  63 140 110 133 158 178 126 175 186  59 133\n",
      "  135  52 145 187  15]\n",
      " [  5  38  50  44  22  25  13 145 157 152 142 188 157  54 160 114 135 122\n",
      "  143 169  51  56  33]\n",
      " [ 40  14  44  28  35   7  45  41  91 104 167 131 111 169 157 118 123 167\n",
      "  155 164 118 129  41]\n",
      " [  7  46  14  38   6  11  23 130  69 136 110  95  46 156 116  99  69 198\n",
      "  170  81 173 197  15]\n",
      " [ 17  35  22  48  15  48  39  87  75 151  87 110  48  85 177 149  46 197\n",
      "   49 152 126 145   5]\n",
      " [ 14   4  35  19   4  24  22 188 111 167 104  84  70  83 100  47 105  82\n",
      "   93 141 125 149  19]\n",
      " [ 47  46  11  12  45  19   5 132 151 191 140  55 145  79  60 125  55 100\n",
      "  176 180  80 110  18]\n",
      " [ 23   1  14  47  22  31  13  88 116 136  95 190 134 111 192  54  63 197\n",
      "   43 176 138  72  36]\n",
      " [ 48   0  24  48  50  30  19 173  48 126 150  65  65 126  62  99 168  54\n",
      "  105 119  78  79  15]]\n"
     ]
    }
   ],
   "source": [
    "import random\n",
    "def generateHours():\n",
    "    hours = []\n",
    "    for hour in range(0,23):\n",
    "        if hour <= 6 or hour >= 22: hours.append(random.randint(0, 50))\n",
    "        else: hours.append(random.randint(40, 200))        \n",
    "    return hours\n",
    "\n",
    "def generateMatrix():\n",
    "    z = []\n",
    "    for bus in range(1, 40):\n",
    "        z.append(generateHours())\n",
    "    return np.array(z)    \n",
    "\n",
    "print(generateMatrix())"
   ]
  },
  {
   "cell_type": "markdown",
   "id": "b91b9f25",
   "metadata": {},
   "source": [
    "b) Es kommen immer mal wieder neue Zählungen herein für ein Verkehrsmittel und eine konkrete Stunde. Die Tabelle z soll dann jeweils (über die 2. Achse) ergänzt werden, die alten Daten sollen nicht überschrieben werden sondern behalten.    (Auch hier lesen wir die Daten nicht ein, sondern denken sie uns per Zufall mittels einer Programmzeile aus, so dass ausreichend viele Zählungen (mindestens 2000) berücksichtigt werden können.)"
   ]
  },
  {
   "cell_type": "code",
   "execution_count": 11,
   "id": "6a5b6c33",
   "metadata": {},
   "outputs": [
    {
     "name": "stdout",
     "output_type": "stream",
     "text": [
      "920 897\n"
     ]
    }
   ],
   "source": [
    "table = generateMatrix()\n",
    "newTable = np.vstack([table, generateHours()])\n",
    "print(newTable.size, table.size)"
   ]
  },
  {
   "cell_type": "markdown",
   "id": "8e0d8d41",
   "metadata": {},
   "source": [
    "c) Wir brauchen neue Tabellen, die aus den vorhandenen Werten für jede Stunde und jedes Verkehrsmittel das Minimum i, das Maximum a und den Durchschnittswert d (über alle Zählungen) wiedergeben."
   ]
  },
  {
   "cell_type": "code",
   "execution_count": 12,
   "id": "c7f124ca",
   "metadata": {},
   "outputs": [
    {
     "name": "stdout",
     "output_type": "stream",
     "text": [
      "[ 33.          30.          44.          45.          29.\n",
      "  15.          30.          78.          54.         125.\n",
      " 187.         146.         114.          70.          69.\n",
      " 183.         188.         186.         165.         130.\n",
      " 196.          81.          13.          13.         196.\n",
      "  96.13043478]\n"
     ]
    }
   ],
   "source": [
    "def generateHoursWithInfo():\n",
    "    hours = generateHours()\n",
    "    min = np.min(hours)\n",
    "    max = np.max(hours)\n",
    "    average = np.mean(hours)\n",
    "    return np.array([*hours, min, max, average])\n",
    "\n",
    "print(generateHoursWithInfo())"
   ]
  },
  {
   "cell_type": "markdown",
   "id": "534d5d50",
   "metadata": {},
   "source": [
    "d) Sorgen Sie dafür, dass i, a und d bei jeder neuen Zählung nur sparsam aktualisiert werden, also Änderungen nur dort geschehen, wo es notwendig ist."
   ]
  },
  {
   "cell_type": "markdown",
   "id": "3a1a5e65",
   "metadata": {},
   "source": [
    "i, a, und d werden nur abhängig einer Reihe berechnet, werden also nur aktualisiert, wenn sich die Reihe ändert."
   ]
  },
  {
   "cell_type": "markdown",
   "id": "fd3bac6c",
   "metadata": {},
   "source": [
    "e) Überlegen Sie sich eine oder zwei (gerne etwas komplexere) Fragestellungen, die mit diesen Daten beantwortet werden können und schreiben den Code dafür."
   ]
  },
  {
   "cell_type": "code",
   "execution_count": 20,
   "id": "c723c03d",
   "metadata": {
    "scrolled": true
   },
   "outputs": [
    {
     "data": {
      "image/png": "[encoded data removed]",
      "text/plain": [
       "<Figure size 640x480 with 1 Axes>"
      ]
     },
     "metadata": {},
     "output_type": "display_data"
    }
   ],
   "source": [
    "import matplotlib.pyplot as plt\n",
    "import numpy as np\n",
    "\n",
    "busNumber = 0\n",
    "\n",
    "matrix = generateMatrix()\n",
    "\n",
    "x = range(0, 23)\n",
    "y = matrix[busNumber]\n",
    "\n",
    "fig, ax = plt.subplots()\n",
    "\n",
    "ax.bar(x, y, width=1, edgecolor=\"white\", linewidth=0.7)\n",
    "\n",
    "plt.show()"
   ]
  }
 ],
 "metadata": {
  "kernelspec": {
   "display_name": "Python 3 (ipykernel)",
   "language": "python",
   "name": "python3"
  },
  "language_info": {
   "codemirror_mode": {
    "name": "ipython",
    "version": 3
   },
   "file_extension": ".py",
   "mimetype": "text/x-python",
   "name": "python",
   "nbconvert_exporter": "python",
   "pygments_lexer": "ipython3",
   "version": "3.11.5"
  }
 },
 "nbformat": 4,
 "nbformat_minor": 5
}
