{
 "cells": [
  {
   "cell_type": "code",
   "execution_count": 4,
   "id": "f7f25c8b",
   "metadata": {},
   "outputs": [],
   "source": [
    "import numpy as np"
   ]
  },
  {
   "cell_type": "markdown",
   "id": "462c0910",
   "metadata": {},
   "source": [
    "a) Anstatt konkrete Daten einzulesen (wie würde dies gehen, wenn wir ein numpy-Array als Datei vorliegen haben?), befüllen wir eine 40x24-Matrix z mit Zufallszahlen: zwischen 22 und 6 Uhr mit Zahlen zwischen 0 und 50, in der übrigen Zeit mit Zahlen zwischen 40 und 200."
   ]
  },
  {
   "cell_type": "markdown",
   "id": "09b582a9",
   "metadata": {},
   "source": [
    "Um Daten einzulesen, könnte man f_open() verwenden und dann den Inhalt als NumPy Array parsen."
   ]
  },
  {
   "cell_type": "code",
   "execution_count": 28,
   "id": "57f0a3c4",
   "metadata": {},
   "outputs": [
    {
     "name": "stdout",
     "output_type": "stream",
     "text": [
      "[[  0   2  31  17  46  17   6 163  46 199  67 100 104 152 199 187 127  76\n",
      "  187 136  85 144  41]\n",
      " [  8  18  50  42   6  44  22  61 181 107 185  95 188  80 142  45  81  70\n",
      "   82 168 150 100  31]\n",
      " [  9   0  22  18  15  20   3  57  87 133  95 197  53  68 102  52  45 122\n",
      "  110 100 175 167  23]\n",
      " [  9   9  25  39  23   6  42 100  51  99 122  79 149  60 187 159  79  45\n",
      "  170  55 166  48  49]\n",
      " [ 38  27  12  34  43  34  40 171 188 174  85  75 187  88  42  47 170  55\n",
      "   84  49 124 121  47]\n",
      " [ 18  14  27  27  23   8  29 105 102  59  77 162  61  64  98  64  64 147\n",
      "   64 182 113  48  24]\n",
      " [  1  23  50   1  26  12   0 145 107  57  68 124 102  82 150 129  66  84\n",
      "   92 149 162  60  39]\n",
      " [ 14  25  13  27  12  36  15 158 195 197 151 139  44 169 133 158  75 200\n",
      "   42 171  59 150  28]\n",
      " [ 48  21  48  33  39  32   3  96  79 186 112 118  58 191 151  40  53 171\n",
      "  175 151 101  47  19]\n",
      " [  4  28  13  29  33  37   7 148 129 157  69 165  41 185 133 120 195 112\n",
      "   47 116 168 162  25]\n",
      " [ 11  26  49  50  44  32  34  66 122 112 163 164  85 129  51 105 119  87\n",
      "  102 105  82 147  11]\n",
      " [ 17  19  30  10  40  15  40  41 126 116  80  65 153 112 160 152 149 161\n",
      "  185 141 108  51  25]\n",
      " [ 15  25  47  23  10   3  13 157 138 200  85 183 106  98 191  44  55 149\n",
      "   85 179 136  78   6]\n",
      " [  8  15  39   8  20  42   6 163 132 170  95 198  55 188  94  92  65 159\n",
      "  142  44 148  98  39]\n",
      " [ 36  26  24  31  17  30   7 196 116 118  41  88 156 122  56  82 133 156\n",
      "  103 183 199  54  20]\n",
      " [ 41  10  24  39  26  30  41 179 153 161 146 144 159 194 121 157 173 126\n",
      "  182 163  50 171   5]\n",
      " [ 27  44  25  14  13  32  33 173  41 101 162  75 189 139 173  97 188 175\n",
      "  146 120 136  64  40]\n",
      " [ 36  12  10  27   8  32   7 199 142  40  85 151  65  49  68 100 109 178\n",
      "   62  46 194 159  32]\n",
      " [ 24  28  40  11  34   4  28  92 143 112  97 124  98 149 187 126  88 155\n",
      "   57 102  63 187  20]\n",
      " [ 11  10   0  50  34  32  28 159 198 178 193  97  82 152 121  46  63 190\n",
      "  158 126 128 136  19]\n",
      " [ 20  22  42  11  34   8  22 154 117 161 164 118 144 200 172 114 145 187\n",
      "   57 129  81 170  12]\n",
      " [ 10  41  18  25   6  22   5  55  43  73  49 131 142 182  55 149 107 185\n",
      "  134  62  50 111  30]\n",
      " [ 43   2  26  24  15  17  42 171  41 116 140 152 151  75 131  72 176  48\n",
      "   60  84  50  53  10]\n",
      " [ 44  14   5  28  27  38   2  84  93  59  88 138 181 137 167 181 101 154\n",
      "   47 165  41  93  41]\n",
      " [ 38   5   7  29  48  39  18 182 176  47  43  49 134  91 148  72 101 141\n",
      "  127  97 168 181  44]\n",
      " [ 46  41  33   0  22  20  26 176 149  74  61  96 195 124 195  81 126  98\n",
      "  181  79  80  72   2]\n",
      " [ 13  27   2  31  48   5  46 188  96  66 171 181 104 196  41 178  70 125\n",
      "  124 125  79 164  34]\n",
      " [ 50  48  35  33  48  26  11 177  51 195 192  74  40 181 114 196  56 195\n",
      "   47 109 147 178  27]\n",
      " [ 46  18   6  17  25  37  32  81 156  73 113 153 198 142 106  41 142  82\n",
      "   65 185  72 190  28]\n",
      " [ 14  31  28  13  48  35   1 189 120  40 152 103  85 141 113  49  50 148\n",
      "  126 176  87 157  21]\n",
      " [  1  27  43  39  31  49  46  82 130 188 169  94 117 144  40 177 165  72\n",
      "   42 128  59  97  49]\n",
      " [ 18  18  46  49   5   5   9 110 192 126 187  83 120 159 159 172 169 170\n",
      "  151 114  75  43  49]\n",
      " [  5  18   4   9  48  27  28 149 130  55 108  86 188 151  79  71  84  85\n",
      "  175  52 185 157  28]\n",
      " [ 12   4   3   3  15  47   0  90 184  72 127 144 132  93 144  65 152  69\n",
      "  154 156  65 174   4]\n",
      " [ 15  16  14  18  21  47  38  78  67  91  99  95 184 157  80 177 186  61\n",
      "  101 174 151 138  45]\n",
      " [ 40  14   9  38  40  14  10  58  99 134 105  65 155 121  55  70 105 193\n",
      "  176  78 126  88  38]\n",
      " [ 39  19  14  23  22  20  15 169 108 177 150 174  90 114  51  93 112  58\n",
      "  180  44 164 194   4]\n",
      " [ 28  42  20  45  19  22  28 145 189 176 177 118 163  58 136 181 182 109\n",
      "  126 183  53 178  48]\n",
      " [  8  23  23  23   8  25  31  63 122 141 143 182 173 195 110 149 188  85\n",
      "   40 179 166 141  11]]\n"
     ]
    }
   ],
   "source": [
    "import random\n",
    "def generateHours():\n",
    "    hours = []\n",
    "    for hour in range(0,23):\n",
    "        if hour <= 6 or hour >= 22: hours.append(random.randint(0, 50))\n",
    "        else: hours.append(random.randint(40, 200))        \n",
    "    return hours\n",
    "\n",
    "def generateMatrix():\n",
    "    z = []\n",
    "    for bus in range(1, 40):\n",
    "        z.append(generateHours())\n",
    "    return np.array(z)    \n",
    "\n",
    "print(generateMatrix())"
   ]
  },
  {
   "cell_type": "markdown",
   "id": "b91b9f25",
   "metadata": {},
   "source": [
    "b) Es kommen immer mal wieder neue Zählungen herein für ein Verkehrsmittel und eine konkrete Stunde. Die Tabelle z soll dann jeweils (über die 2. Achse) ergänzt werden, die alten Daten sollen nicht überschrieben werden sondern behalten.    (Auch hier lesen wir die Daten nicht ein, sondern denken sie uns per Zufall mittels einer Programmzeile aus, so dass ausreichend viele Zählungen (mindestens 2000) berücksichtigt werden können.)"
   ]
  },
  {
   "cell_type": "code",
   "execution_count": 35,
   "id": "6a5b6c33",
   "metadata": {},
   "outputs": [],
   "source": [
    "table = generateMatrix()"
   ]
  }
 ],
 "metadata": {
  "kernelspec": {
   "display_name": "Python 3 (ipykernel)",
   "language": "python",
   "name": "python3"
  },
  "language_info": {
   "codemirror_mode": {
    "name": "ipython",
    "version": 3
   },
   "file_extension": ".py",
   "mimetype": "text/x-python",
   "name": "python",
   "nbconvert_exporter": "python",
   "pygments_lexer": "ipython3",
   "version": "3.11.5"
  }
 },
 "nbformat": 4,
 "nbformat_minor": 5
}
