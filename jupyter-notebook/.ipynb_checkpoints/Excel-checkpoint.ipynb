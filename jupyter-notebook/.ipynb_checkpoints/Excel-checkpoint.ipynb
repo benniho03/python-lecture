{
 "cells": [
  {
   "cell_type": "markdown",
   "id": "4ad8d014",
   "metadata": {},
   "source": [
    "# Umgang mit Excel-Dateien als Datengrundlage"
   ]
  },
  {
   "cell_type": "code",
   "execution_count": 25,
   "id": "69a7aee8",
   "metadata": {},
   "outputs": [
    {
     "name": "stdout",
     "output_type": "stream",
     "text": [
      "Sheets:  ['Sheet1', 'Sheet2', 'Sheet3']\n",
      "Wert in A1:  2015-04-05 13:34:02\n",
      "Apples\n"
     ]
    }
   ],
   "source": [
    "import openpyxl\n",
    "\n",
    "wb = openpyxl.load_workbook('./example.xlsx')\n",
    "\n",
    "print(\"Sheets: \", wb.sheetnames)\n",
    "\n",
    "sheet = wb['Sheet1']\n",
    "\n",
    "cell = sheet['A1']\n",
    "\n",
    "value = cell.value\n",
    "\n",
    "print(\"Wert in A1: \", value)\n"
   ]
  },
  {
   "cell_type": "code",
   "execution_count": 27,
   "id": "96452006",
   "metadata": {},
   "outputs": [
    {
     "name": "stdout",
     "output_type": "stream",
     "text": [
      "Wert in B:  Apples\n",
      "Row 1, Column 1 is 2015-04-05 13:34:02\n",
      "Row 1, Column 2 is Apples\n"
     ]
    }
   ],
   "source": [
    "cell2 = sheet['B1']\n",
    "\n",
    "value2 = cell2.value\n",
    "\n",
    "print(\"Wert in B: \", value2)\n",
    "\n",
    "print(f\"Row {cell.row}, Column {cell.column} is {cell.value}\")\n",
    "\n",
    "print(f\"Row {cell2.row}, Column {cell2.column} is {cell2.value}\")\n"
   ]
  },
  {
   "cell_type": "code",
   "execution_count": 28,
   "id": "c2061c2c",
   "metadata": {},
   "outputs": [
    {
     "name": "stdout",
     "output_type": "stream",
     "text": [
      "Apples\n"
     ]
    }
   ],
   "source": [
    "print((sheet.cell(row=1, column=2)).value)"
   ]
  },
  {
   "cell_type": "code",
   "execution_count": 31,
   "id": "c426ccd1",
   "metadata": {
    "scrolled": true
   },
   "outputs": [
    {
     "name": "stdout",
     "output_type": "stream",
     "text": [
      "1 Apples\n",
      "3 Pears\n",
      "5 Apples\n",
      "7 Strawberries\n"
     ]
    }
   ],
   "source": [
    "for i in range(1, 8, 2):\n",
    "    print(i, sheet.cell(row=i, column=2).value)"
   ]
  },
  {
   "cell_type": "code",
   "execution_count": 36,
   "id": "ca63836e",
   "metadata": {},
   "outputs": [
    {
     "name": "stdout",
     "output_type": "stream",
     "text": [
      "Max Row 7\n",
      "Max Col 3\n"
     ]
    }
   ],
   "source": [
    "print(\"Max Row\", sheet.max_row)\n",
    "print(\"Max Col\", sheet.max_column)"
   ]
  },
  {
   "cell_type": "code",
   "execution_count": 42,
   "id": "ab49da95",
   "metadata": {
    "scrolled": false
   },
   "outputs": [
    {
     "name": "stdout",
     "output_type": "stream",
     "text": [
      "A1 2015-04-05 13:34:02\n",
      "B1 Apples\n",
      "C1 73\n",
      "A2 2015-04-05 03:41:23\n",
      "B2 Cherries\n",
      "C2 85\n",
      "A3 2015-04-06 12:46:51\n",
      "B3 Pears\n",
      "C3 14\n"
     ]
    }
   ],
   "source": [
    "values = tuple(sheet['A1':'C3'])\n",
    "\n",
    "for rowOfCellObjects in values:\n",
    "    for cellObj in rowOfCellObjects:\n",
    "        print(cellObj.coordinate, cellObj.value)"
   ]
  },
  {
   "cell_type": "code",
   "execution_count": 47,
   "id": "de72d13f",
   "metadata": {},
   "outputs": [
    {
     "name": "stdout",
     "output_type": "stream",
     "text": [
      "Apples\n",
      "Cherries\n",
      "Pears\n",
      "Oranges\n",
      "Apples\n",
      "Bananas\n",
      "Strawberries\n"
     ]
    }
   ],
   "source": [
    "cells = list(sheet.columns)[1]\n",
    "\n",
    "for cellObj in cells:\n",
    "    print(cellObj.value)"
   ]
  },
  {
   "cell_type": "code",
   "execution_count": null,
   "id": "12d0628c",
   "metadata": {},
   "outputs": [],
   "source": []
  }
 ],
 "metadata": {
  "kernelspec": {
   "display_name": "Python 3 (ipykernel)",
   "language": "python",
   "name": "python3"
  },
  "language_info": {
   "codemirror_mode": {
    "name": "ipython",
    "version": 3
   },
   "file_extension": ".py",
   "mimetype": "text/x-python",
   "name": "python",
   "nbconvert_exporter": "python",
   "pygments_lexer": "ipython3",
   "version": "3.11.5"
  }
 },
 "nbformat": 4,
 "nbformat_minor": 5
}
