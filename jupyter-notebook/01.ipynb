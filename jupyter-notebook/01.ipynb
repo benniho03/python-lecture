{
 "cells": [
  {
   "cell_type": "code",
   "execution_count": 2,
   "id": "8b4a0181",
   "metadata": {
    "scrolled": true
   },
   "outputs": [
    {
     "name": "stdout",
     "output_type": "stream",
     "text": [
      "no!\n"
     ]
    }
   ],
   "source": [
    "print(\"no!\")"
   ]
  },
  {
   "cell_type": "code",
   "execution_count": 1,
   "id": "91225255",
   "metadata": {},
   "outputs": [],
   "source": [
    "with open('email_addresses.txt', 'w') as f:\n",
    "    f.write(\"joelgrus@gmail.com\\n\")\n",
    "    f.write(\"joel@m.datasciencester.com\\n\")\n",
    "    f.write(\"joelgrus@m.datasciencester.com\\n\")"
   ]
  },
  {
   "cell_type": "markdown",
   "id": "7c2b2b48",
   "metadata": {},
   "source": [
    "Öffnet eine Datei `email_adresses.txt` und schreibt die E-Mail-Adressen je in eine neue Datei."
   ]
  },
  {
   "cell_type": "code",
   "execution_count": 2,
   "id": "ed2dc460",
   "metadata": {},
   "outputs": [],
   "source": [
    "def get_domain(email_address: str) -> str:\n",
    "    \"\"\"Split on '@' and return the last piece\"\"\"\n",
    "    return email_address.lower().split(\"@\")[-1]"
   ]
  },
  {
   "cell_type": "markdown",
   "id": "1a6ec990",
   "metadata": {},
   "source": [
    "Definierte eine Methode `get_domain()` gibt jeweils die Domain der E-Mail zurück."
   ]
  },
  {
   "cell_type": "code",
   "execution_count": 3,
   "id": "fcd3f79d",
   "metadata": {},
   "outputs": [],
   "source": [
    "assert get_domain('joelgrus@gmail.com') == 'gmail.com'\n",
    "assert get_domain('joel@m.datasciencester.com') == 'm.datasciencester.com'\n",
    "\n",
    "from collections import Counter\n",
    "\n",
    "with open('email_addresses.txt', 'r') as f:\n",
    "    domain_counts = Counter(get_domain(line.strip())\n",
    "                            for line in f\n",
    "                            if \"@\" in line)\n",
    "\n",
    "\n",
    "with open('tab_delimited_stock_prices.txt', 'w') as f:\n",
    "    f.write(\"\"\"6/20/2014\\tAAPL\\t90.91\n",
    "6/20/2014\\tMSFT\\t41.68\n",
    "6/20/2014\\tFB\\t64.5\n",
    "6/19/2014\\tAAPL\\t91.86\n",
    "6/19/2014\\tMSFT\\t41.51\n",
    "6/19/2014\\tFB\\t64.34\n",
    "\"\"\")\n",
    "\n",
    "def process(date: str, symbol: str, closing_price: float) -> None:\n",
    "    # Imaginge that this function actually does something.\n",
    "    assert closing_price > 0.0"
   ]
  },
  {
   "cell_type": "code",
   "execution_count": 8,
   "id": "73aa649e",
   "metadata": {},
   "outputs": [],
   "source": [
    "import csv\n",
    "\n",
    "with open('tab_delimited_stock_prices.txt') as f:\n",
    "    tab_reader = csv.reader(f, delimiter='\\t')\n",
    "    for row in tab_reader:\n",
    "        date = row[0]\n",
    "        symbol = row[1]\n",
    "        closing_price = float(row[2])\n",
    "        process(date, symbol, closing_price)\n",
    "\n",
    "\n",
    "with open('colon_delimited_stock_prices.txt', 'w') as f:\n",
    "    f.write(\"\"\"date:symbol:closing_price\n",
    "6/20/2014:AAPL:90.91\n",
    "6/20/2014:MSFT:41.68\n",
    "6/20/2014:FB:64.5\n",
    "\"\"\")\n",
    "\n",
    "\n",
    "with open('colon_delimited_stock_prices.txt') as f:\n",
    "    colon_reader = csv.DictReader(f, delimiter=':')\n",
    "    for dict_row in colon_reader:\n",
    "        date = dict_row[\"date\"]\n",
    "        symbol = dict_row[\"symbol\"]\n",
    "        closing_price = float(dict_row[\"closing_price\"])\n",
    "        process(date, symbol, closing_price)\n",
    "\n",
    "todays_prices = {'AAPL': 90.91, 'MSFT': 41.68, 'FB': 64.5 }\n",
    "\n",
    "with open('comma_delimited_stock_prices.txt', 'w') as f:\n",
    "    csv_writer = csv.writer(f, delimiter=',')\n",
    "    for stock, price in todays_prices.items():\n",
    "        csv_writer.writerow([stock, price])\n",
    "\n",
    "results = [[\"test1\", \"success\", \"Monday\"],\n",
    "           [\"test2\", \"success, kind of\", \"Tuesday\"],\n",
    "           [\"test3\", \"failure, kind of\", \"Wednesday\"],\n",
    "           [\"test4\", \"failure, utter\", \"Thursday\"]]"
   ]
  },
  {
   "cell_type": "markdown",
   "id": "84363e56",
   "metadata": {},
   "source": [
    "Dieser Code liest Dateien aus und verarbeitet diese. Dabei werden unterschiedliche Trennzeichen verwendet."
   ]
  },
  {
   "cell_type": "code",
   "execution_count": null,
   "outputs": [],
   "source": [
    "print(\"Hello PyCharm!\")"
   ],
   "metadata": {
    "collapsed": false,
    "is_executing": true
   },
   "id": "f35fc6b2426fce7e"
  }
 ],
 "metadata": {
  "kernelspec": {
   "display_name": "Python 3 (ipykernel)",
   "language": "python",
   "name": "python3"
  },
  "language_info": {
   "codemirror_mode": {
    "name": "ipython",
    "version": 3
   },
   "file_extension": ".py",
   "mimetype": "text/x-python",
   "name": "python",
   "nbconvert_exporter": "python",
   "pygments_lexer": "ipython3",
   "version": "3.11.5"
  }
 },
 "nbformat": 4,
 "nbformat_minor": 5
}
